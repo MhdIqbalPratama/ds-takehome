{
 "cells": [
  {
   "cell_type": "markdown",
   "id": "74e9b562",
   "metadata": {},
   "source": [
    "## import libraries"
   ]
  },
  {
   "cell_type": "code",
   "execution_count": 1,
   "id": "838e495e",
   "metadata": {},
   "outputs": [],
   "source": [
    "import pandas as pd\n",
    "import sqlite3"
   ]
  },
  {
   "cell_type": "markdown",
   "id": "545ce13d",
   "metadata": {},
   "source": [
    "## getting data from gdrive"
   ]
  },
  {
   "cell_type": "code",
   "execution_count": 2,
   "id": "a2f22083",
   "metadata": {},
   "outputs": [
    {
     "name": "stdout",
     "output_type": "stream",
     "text": [
      "Downloading...\n",
      "From: https://drive.google.com/uc?id=1rOjHdkmEvwlyIWCN1vNBnNfonaU7ajbf\n",
      "To: /home/iqbal/playGround/tech-testDs/SQL-Cases/e_commerce_transactions.csv\n",
      "100%|████████████████████████████████████████| 372k/372k [00:00<00:00, 1.97MB/s]\n"
     ]
    }
   ],
   "source": [
    "!gdown 1rOjHdkmEvwlyIWCN1vNBnNfonaU7ajbf"
   ]
  },
  {
   "cell_type": "markdown",
   "id": "0287fa94",
   "metadata": {},
   "source": [
    "## peeping data"
   ]
  },
  {
   "cell_type": "code",
   "execution_count": 3,
   "id": "14fc460c",
   "metadata": {},
   "outputs": [
    {
     "data": {
      "text/html": [
       "<div>\n",
       "<style scoped>\n",
       "    .dataframe tbody tr th:only-of-type {\n",
       "        vertical-align: middle;\n",
       "    }\n",
       "\n",
       "    .dataframe tbody tr th {\n",
       "        vertical-align: top;\n",
       "    }\n",
       "\n",
       "    .dataframe thead th {\n",
       "        text-align: right;\n",
       "    }\n",
       "</style>\n",
       "<table border=\"1\" class=\"dataframe\">\n",
       "  <thead>\n",
       "    <tr style=\"text-align: right;\">\n",
       "      <th></th>\n",
       "      <th>order_id</th>\n",
       "      <th>customer_id</th>\n",
       "      <th>order_date</th>\n",
       "      <th>payment_value</th>\n",
       "      <th>decoy_flag</th>\n",
       "      <th>decoy_noise</th>\n",
       "    </tr>\n",
       "  </thead>\n",
       "  <tbody>\n",
       "    <tr>\n",
       "      <th>0</th>\n",
       "      <td>101000</td>\n",
       "      <td>684</td>\n",
       "      <td>2024-01-29</td>\n",
       "      <td>38.93</td>\n",
       "      <td>A</td>\n",
       "      <td>39.51</td>\n",
       "    </tr>\n",
       "    <tr>\n",
       "      <th>1</th>\n",
       "      <td>101001</td>\n",
       "      <td>207</td>\n",
       "      <td>2024-06-29</td>\n",
       "      <td>59.52</td>\n",
       "      <td>B</td>\n",
       "      <td>38.97</td>\n",
       "    </tr>\n",
       "    <tr>\n",
       "      <th>2</th>\n",
       "      <td>101002</td>\n",
       "      <td>288</td>\n",
       "      <td>2024-03-20</td>\n",
       "      <td>355.52</td>\n",
       "      <td>B</td>\n",
       "      <td>338.14</td>\n",
       "    </tr>\n",
       "  </tbody>\n",
       "</table>\n",
       "</div>"
      ],
      "text/plain": [
       "   order_id  customer_id  order_date  payment_value decoy_flag  decoy_noise\n",
       "0    101000          684  2024-01-29          38.93          A        39.51\n",
       "1    101001          207  2024-06-29          59.52          B        38.97\n",
       "2    101002          288  2024-03-20         355.52          B       338.14"
      ]
     },
     "execution_count": 3,
     "metadata": {},
     "output_type": "execute_result"
    }
   ],
   "source": [
    "df = pd.read_csv('e_commerce_transactions.csv')\n",
    "df.head(3)"
   ]
  },
  {
   "cell_type": "code",
   "execution_count": 4,
   "id": "7f60772a",
   "metadata": {},
   "outputs": [
    {
     "name": "stdout",
     "output_type": "stream",
     "text": [
      "<class 'pandas.core.frame.DataFrame'>\n",
      "RangeIndex: 10000 entries, 0 to 9999\n",
      "Data columns (total 6 columns):\n",
      " #   Column         Non-Null Count  Dtype  \n",
      "---  ------         --------------  -----  \n",
      " 0   order_id       10000 non-null  int64  \n",
      " 1   customer_id    10000 non-null  int64  \n",
      " 2   order_date     10000 non-null  object \n",
      " 3   payment_value  10000 non-null  float64\n",
      " 4   decoy_flag     10000 non-null  object \n",
      " 5   decoy_noise    10000 non-null  float64\n",
      "dtypes: float64(2), int64(2), object(2)\n",
      "memory usage: 468.9+ KB\n"
     ]
    }
   ],
   "source": [
    "df.info()"
   ]
  },
  {
   "cell_type": "code",
   "execution_count": 5,
   "id": "612951f0",
   "metadata": {},
   "outputs": [
    {
     "data": {
      "text/html": [
       "<div>\n",
       "<style scoped>\n",
       "    .dataframe tbody tr th:only-of-type {\n",
       "        vertical-align: middle;\n",
       "    }\n",
       "\n",
       "    .dataframe tbody tr th {\n",
       "        vertical-align: top;\n",
       "    }\n",
       "\n",
       "    .dataframe thead th {\n",
       "        text-align: right;\n",
       "    }\n",
       "</style>\n",
       "<table border=\"1\" class=\"dataframe\">\n",
       "  <thead>\n",
       "    <tr style=\"text-align: right;\">\n",
       "      <th></th>\n",
       "      <th>count</th>\n",
       "      <th>mean</th>\n",
       "      <th>std</th>\n",
       "      <th>min</th>\n",
       "      <th>25%</th>\n",
       "      <th>50%</th>\n",
       "      <th>75%</th>\n",
       "      <th>max</th>\n",
       "    </tr>\n",
       "  </thead>\n",
       "  <tbody>\n",
       "    <tr>\n",
       "      <th>order_id</th>\n",
       "      <td>10000.0</td>\n",
       "      <td>105999.500000</td>\n",
       "      <td>2886.895680</td>\n",
       "      <td>101000.00</td>\n",
       "      <td>103499.7500</td>\n",
       "      <td>105999.500</td>\n",
       "      <td>108499.2500</td>\n",
       "      <td>110999.00</td>\n",
       "    </tr>\n",
       "    <tr>\n",
       "      <th>customer_id</th>\n",
       "      <td>10000.0</td>\n",
       "      <td>499.053900</td>\n",
       "      <td>289.171477</td>\n",
       "      <td>1.00</td>\n",
       "      <td>245.7500</td>\n",
       "      <td>502.000</td>\n",
       "      <td>746.0000</td>\n",
       "      <td>1000.00</td>\n",
       "    </tr>\n",
       "    <tr>\n",
       "      <th>payment_value</th>\n",
       "      <td>10000.0</td>\n",
       "      <td>201.130120</td>\n",
       "      <td>141.395236</td>\n",
       "      <td>0.55</td>\n",
       "      <td>96.3775</td>\n",
       "      <td>169.025</td>\n",
       "      <td>271.1425</td>\n",
       "      <td>1369.47</td>\n",
       "    </tr>\n",
       "    <tr>\n",
       "      <th>decoy_noise</th>\n",
       "      <td>10000.0</td>\n",
       "      <td>201.107939</td>\n",
       "      <td>146.458254</td>\n",
       "      <td>-48.34</td>\n",
       "      <td>96.4225</td>\n",
       "      <td>167.240</td>\n",
       "      <td>271.1250</td>\n",
       "      <td>1468.46</td>\n",
       "    </tr>\n",
       "  </tbody>\n",
       "</table>\n",
       "</div>"
      ],
      "text/plain": [
       "                 count           mean          std        min          25%  \\\n",
       "order_id       10000.0  105999.500000  2886.895680  101000.00  103499.7500   \n",
       "customer_id    10000.0     499.053900   289.171477       1.00     245.7500   \n",
       "payment_value  10000.0     201.130120   141.395236       0.55      96.3775   \n",
       "decoy_noise    10000.0     201.107939   146.458254     -48.34      96.4225   \n",
       "\n",
       "                      50%          75%        max  \n",
       "order_id       105999.500  108499.2500  110999.00  \n",
       "customer_id       502.000     746.0000    1000.00  \n",
       "payment_value     169.025     271.1425    1369.47  \n",
       "decoy_noise       167.240     271.1250    1468.46  "
      ]
     },
     "execution_count": 5,
     "metadata": {},
     "output_type": "execute_result"
    }
   ],
   "source": [
    "df.describe().T"
   ]
  },
  {
   "cell_type": "code",
   "execution_count": 6,
   "id": "bef80fcb",
   "metadata": {},
   "outputs": [
    {
     "data": {
      "text/plain": [
       "array(['A', 'B', 'C', 'D'], dtype=object)"
      ]
     },
     "execution_count": 6,
     "metadata": {},
     "output_type": "execute_result"
    }
   ],
   "source": [
    "df['decoy_flag'].unique()"
   ]
  },
  {
   "cell_type": "markdown",
   "id": "8076c341",
   "metadata": {},
   "source": [
    "## make connections to db"
   ]
  },
  {
   "cell_type": "code",
   "execution_count": 7,
   "id": "07934be1",
   "metadata": {},
   "outputs": [],
   "source": [
    "con = sqlite3.connect('analisis.sqlite')\n",
    "cur = con.cursor()"
   ]
  },
  {
   "cell_type": "code",
   "execution_count": 8,
   "id": "862981bb",
   "metadata": {},
   "outputs": [
    {
     "data": {
      "text/plain": [
       "10000"
      ]
     },
     "execution_count": 8,
     "metadata": {},
     "output_type": "execute_result"
    }
   ],
   "source": [
    "df.to_sql('e_commers_transactions', con=con, if_exists='replace')"
   ]
  },
  {
   "cell_type": "markdown",
   "id": "affeee07",
   "metadata": {},
   "source": [
    "## rfm analysis using sqlite query in pandas"
   ]
  },
  {
   "cell_type": "code",
   "execution_count": 9,
   "id": "57681c7e",
   "metadata": {},
   "outputs": [
    {
     "data": {
      "text/html": [
       "<div>\n",
       "<style scoped>\n",
       "    .dataframe tbody tr th:only-of-type {\n",
       "        vertical-align: middle;\n",
       "    }\n",
       "\n",
       "    .dataframe tbody tr th {\n",
       "        vertical-align: top;\n",
       "    }\n",
       "\n",
       "    .dataframe thead th {\n",
       "        text-align: right;\n",
       "    }\n",
       "</style>\n",
       "<table border=\"1\" class=\"dataframe\">\n",
       "  <thead>\n",
       "    <tr style=\"text-align: right;\">\n",
       "      <th></th>\n",
       "      <th>customer_id</th>\n",
       "      <th>recency</th>\n",
       "      <th>frequency</th>\n",
       "      <th>monetary</th>\n",
       "      <th>r_score</th>\n",
       "      <th>f_score</th>\n",
       "      <th>m_score</th>\n",
       "      <th>rfm_score</th>\n",
       "      <th>segment</th>\n",
       "    </tr>\n",
       "  </thead>\n",
       "  <tbody>\n",
       "    <tr>\n",
       "      <th>0</th>\n",
       "      <td>1</td>\n",
       "      <td>432</td>\n",
       "      <td>6</td>\n",
       "      <td>517.09</td>\n",
       "      <td>1</td>\n",
       "      <td>2</td>\n",
       "      <td>1</td>\n",
       "      <td>4</td>\n",
       "      <td>Lost</td>\n",
       "    </tr>\n",
       "    <tr>\n",
       "      <th>1</th>\n",
       "      <td>2</td>\n",
       "      <td>410</td>\n",
       "      <td>14</td>\n",
       "      <td>3198.96</td>\n",
       "      <td>1</td>\n",
       "      <td>3</td>\n",
       "      <td>3</td>\n",
       "      <td>7</td>\n",
       "      <td>Loyal</td>\n",
       "    </tr>\n",
       "    <tr>\n",
       "      <th>2</th>\n",
       "      <td>3</td>\n",
       "      <td>197</td>\n",
       "      <td>10</td>\n",
       "      <td>1892.63</td>\n",
       "      <td>1</td>\n",
       "      <td>3</td>\n",
       "      <td>2</td>\n",
       "      <td>6</td>\n",
       "      <td>Potential Loyalists</td>\n",
       "    </tr>\n",
       "    <tr>\n",
       "      <th>3</th>\n",
       "      <td>4</td>\n",
       "      <td>389</td>\n",
       "      <td>9</td>\n",
       "      <td>1232.10</td>\n",
       "      <td>1</td>\n",
       "      <td>2</td>\n",
       "      <td>2</td>\n",
       "      <td>5</td>\n",
       "      <td>At Risk</td>\n",
       "    </tr>\n",
       "    <tr>\n",
       "      <th>4</th>\n",
       "      <td>5</td>\n",
       "      <td>287</td>\n",
       "      <td>12</td>\n",
       "      <td>3372.05</td>\n",
       "      <td>1</td>\n",
       "      <td>3</td>\n",
       "      <td>3</td>\n",
       "      <td>7</td>\n",
       "      <td>Loyal</td>\n",
       "    </tr>\n",
       "    <tr>\n",
       "      <th>...</th>\n",
       "      <td>...</td>\n",
       "      <td>...</td>\n",
       "      <td>...</td>\n",
       "      <td>...</td>\n",
       "      <td>...</td>\n",
       "      <td>...</td>\n",
       "      <td>...</td>\n",
       "      <td>...</td>\n",
       "      <td>...</td>\n",
       "    </tr>\n",
       "    <tr>\n",
       "      <th>995</th>\n",
       "      <td>996</td>\n",
       "      <td>325</td>\n",
       "      <td>7</td>\n",
       "      <td>1688.47</td>\n",
       "      <td>1</td>\n",
       "      <td>2</td>\n",
       "      <td>2</td>\n",
       "      <td>5</td>\n",
       "      <td>At Risk</td>\n",
       "    </tr>\n",
       "    <tr>\n",
       "      <th>996</th>\n",
       "      <td>997</td>\n",
       "      <td>166</td>\n",
       "      <td>13</td>\n",
       "      <td>3121.41</td>\n",
       "      <td>1</td>\n",
       "      <td>3</td>\n",
       "      <td>3</td>\n",
       "      <td>7</td>\n",
       "      <td>Loyal</td>\n",
       "    </tr>\n",
       "    <tr>\n",
       "      <th>997</th>\n",
       "      <td>998</td>\n",
       "      <td>318</td>\n",
       "      <td>12</td>\n",
       "      <td>1665.19</td>\n",
       "      <td>1</td>\n",
       "      <td>3</td>\n",
       "      <td>2</td>\n",
       "      <td>6</td>\n",
       "      <td>Potential Loyalists</td>\n",
       "    </tr>\n",
       "    <tr>\n",
       "      <th>998</th>\n",
       "      <td>999</td>\n",
       "      <td>142</td>\n",
       "      <td>11</td>\n",
       "      <td>2019.28</td>\n",
       "      <td>1</td>\n",
       "      <td>3</td>\n",
       "      <td>2</td>\n",
       "      <td>6</td>\n",
       "      <td>Potential Loyalists</td>\n",
       "    </tr>\n",
       "    <tr>\n",
       "      <th>999</th>\n",
       "      <td>1000</td>\n",
       "      <td>416</td>\n",
       "      <td>9</td>\n",
       "      <td>2023.14</td>\n",
       "      <td>1</td>\n",
       "      <td>2</td>\n",
       "      <td>2</td>\n",
       "      <td>5</td>\n",
       "      <td>At Risk</td>\n",
       "    </tr>\n",
       "  </tbody>\n",
       "</table>\n",
       "<p>1000 rows × 9 columns</p>\n",
       "</div>"
      ],
      "text/plain": [
       "     customer_id  recency  frequency  monetary  r_score  f_score  m_score  \\\n",
       "0              1      432          6    517.09        1        2        1   \n",
       "1              2      410         14   3198.96        1        3        3   \n",
       "2              3      197         10   1892.63        1        3        2   \n",
       "3              4      389          9   1232.10        1        2        2   \n",
       "4              5      287         12   3372.05        1        3        3   \n",
       "..           ...      ...        ...       ...      ...      ...      ...   \n",
       "995          996      325          7   1688.47        1        2        2   \n",
       "996          997      166         13   3121.41        1        3        3   \n",
       "997          998      318         12   1665.19        1        3        2   \n",
       "998          999      142         11   2019.28        1        3        2   \n",
       "999         1000      416          9   2023.14        1        2        2   \n",
       "\n",
       "     rfm_score              segment  \n",
       "0            4                 Lost  \n",
       "1            7                Loyal  \n",
       "2            6  Potential Loyalists  \n",
       "3            5              At Risk  \n",
       "4            7                Loyal  \n",
       "..         ...                  ...  \n",
       "995          5              At Risk  \n",
       "996          7                Loyal  \n",
       "997          6  Potential Loyalists  \n",
       "998          6  Potential Loyalists  \n",
       "999          5              At Risk  \n",
       "\n",
       "[1000 rows x 9 columns]"
      ]
     },
     "execution_count": 9,
     "metadata": {},
     "output_type": "execute_result"
    }
   ],
   "source": [
    "rfm = \"\"\"\n",
    "WITH rfm AS (\n",
    "  SELECT\n",
    "    customer_id,\n",
    "    CAST(JULIANDAY((SELECT MAX(order_date) FROM e_commers_transactions)) - JULIANDAY(MAX(order_date)) AS INTEGER) AS recency,\n",
    "    COUNT(order_id) AS frequency,\n",
    "    SUM(payment_value) AS monetary\n",
    "  FROM e_commers_transactions\n",
    "  GROUP BY customer_id\n",
    "),\n",
    "scored AS (\n",
    "  SELECT *,\n",
    "    CASE\n",
    "      WHEN recency <= 30 THEN 3\n",
    "      WHEN recency <= 90 THEN 2\n",
    "      ELSE 1\n",
    "    END AS r_score,\n",
    "    CASE\n",
    "      WHEN frequency >= 10 THEN 3\n",
    "      WHEN frequency >= 5 THEN 2\n",
    "      ELSE 1\n",
    "    END AS f_score,\n",
    "    CASE\n",
    "      WHEN monetary >= 2700 THEN 3\n",
    "      WHEN monetary >= 1200 THEN 2\n",
    "      ELSE 1\n",
    "    END AS m_score\n",
    "  FROM rfm\n",
    "),\n",
    "final AS (\n",
    "  SELECT *,\n",
    "    (r_score + f_score + m_score) AS rfm_score\n",
    "  FROM scored\n",
    ")\n",
    "SELECT *,\n",
    "  CASE\n",
    "    WHEN rfm_score = 9 THEN 'VIP'\n",
    "    WHEN rfm_score = 8 THEN 'Champions'\n",
    "    WHEN rfm_score = 7 THEN 'Loyal'\n",
    "    WHEN rfm_score = 6 THEN 'Potential Loyalists'\n",
    "    WHEN rfm_score = 5 THEN 'At Risk'\n",
    "    ELSE 'Lost'\n",
    "  END AS segment\n",
    "FROM final;\n",
    "\"\"\"\n",
    "pd.read_sql_query(rfm, con)"
   ]
  },
  {
   "cell_type": "markdown",
   "id": "2ab684d9",
   "metadata": {},
   "source": [
    "## anomalies detect using pandas"
   ]
  },
  {
   "cell_type": "code",
   "execution_count": 10,
   "id": "02586366",
   "metadata": {},
   "outputs": [
    {
     "name": "stdout",
     "output_type": "stream",
     "text": [
      "Combined anomalies:\n",
      "     order_id  customer_id  order_date  payment_value decoy_flag  decoy_noise\n",
      "23    101023          744  2024-01-28         714.54          A       688.41\n",
      "33    101033          816  2024-06-27         611.16          B       727.26\n",
      "49    101049          489  2024-01-13         548.90          C       624.02\n",
      "57    101057          988  2024-01-14         645.70          C       730.71\n",
      "70    101070          695  2024-03-29         617.81          C       679.00\n"
     ]
    }
   ],
   "source": [
    "# Detect anomalies using IQR for decoy_noise\n",
    "Q1 = df['decoy_noise'].quantile(0.25)\n",
    "Q3 = df['decoy_noise'].quantile(0.75)\n",
    "IQR = Q3 - Q1\n",
    "upper_bound = Q3 + 1.5 * IQR\n",
    "anomalies_noise = df[df['decoy_noise'] > upper_bound]\n",
    "\n",
    "# Detect anomalies using distribution of decoy_flag\n",
    "flag_summary = df.groupby(\"decoy_flag\")[\"payment_value\"].agg([\"count\", \"mean\", \"std\"])\n",
    "# print(\"Decoy flag distribution:\\n\", flag_summary)\n",
    "\n",
    "# Combine both anomaly signals\n",
    "decoy_flag_outliers = flag_summary[flag_summary['mean'] > flag_summary['mean'].mean() + 2*flag_summary['std']]\n",
    "flag_suspects = df[df['decoy_flag'].isin(decoy_flag_outliers.index)]\n",
    "\n",
    "# Final anomalies: high decoy_noise + suspicious decoy_flag\n",
    "anomalies_combined = df[(df['decoy_noise'] > upper_bound) | (df['decoy_flag'].isin(decoy_flag_outliers.index))]\n",
    "\n",
    "print(\"Combined anomalies:\\n\", anomalies_combined.head())"
   ]
  },
  {
   "cell_type": "markdown",
   "id": "3b6535c7",
   "metadata": {},
   "source": [
    "## anomalies detect using sqlite queries in pandas"
   ]
  },
  {
   "cell_type": "code",
   "execution_count": 11,
   "id": "ded13b18",
   "metadata": {},
   "outputs": [
    {
     "name": "stdout",
     "output_type": "stream",
     "text": [
      "   index  order_id  customer_id  order_date  payment_value decoy_flag  \\\n",
      "0    151    101151          408  2024-01-17         928.50          B   \n",
      "1   2012    103012          309  2024-05-22         967.38          C   \n",
      "2   3854    104854           22  2024-03-06         861.75          C   \n",
      "3   6006    107006          501  2024-02-13        1369.47          B   \n",
      "4   6161    107161          763  2024-01-22         817.19          C   \n",
      "5   6401    107401          379  2024-05-08         847.07          C   \n",
      "6   8462    109462           16  2024-01-19         988.11          B   \n",
      "7   8909    109909          880  2024-09-14         947.08          A   \n",
      "8   9717    110717          930  2024-01-20        1021.76          C   \n",
      "9   9822    110822          521  2024-03-09         913.93          A   \n",
      "\n",
      "   decoy_noise  \n",
      "0       995.56  \n",
      "1      1144.52  \n",
      "2      1041.10  \n",
      "3      1468.46  \n",
      "4      1011.15  \n",
      "5       984.28  \n",
      "6      1095.57  \n",
      "7      1153.43  \n",
      "8      1170.73  \n",
      "9      1088.74  \n"
     ]
    }
   ],
   "source": [
    "anomaly_sql = \"\"\"\n",
    "    WITH noise_stats AS (\n",
    "      SELECT\n",
    "        AVG(decoy_noise) AS mean_noise,\n",
    "        (MAX(decoy_noise) - MIN(decoy_noise)) AS range_noise\n",
    "      FROM e_commers_transactions\n",
    "    ),\n",
    "    flag_stats AS (\n",
    "      SELECT decoy_flag,\n",
    "             COUNT(*) AS count,\n",
    "             AVG(payment_value) AS mean_value\n",
    "      FROM e_commers_transactions\n",
    "      GROUP BY decoy_flag\n",
    "    ),\n",
    "    global_flag_avg AS (\n",
    "      SELECT AVG(mean_value) AS avg_mean_flag\n",
    "      FROM flag_stats\n",
    "    )\n",
    "    SELECT *\n",
    "    FROM e_commers_transactions\n",
    "    WHERE decoy_noise > (\n",
    "      SELECT mean_noise + 0.5 * range_noise FROM noise_stats\n",
    "    )\n",
    "    OR decoy_flag IN (\n",
    "      SELECT fs.decoy_flag\n",
    "      FROM flag_stats fs\n",
    "      JOIN global_flag_avg gfa\n",
    "      ON fs.mean_value > gfa.avg_mean_flag * 2\n",
    "    )\n",
    "\"\"\"\n",
    "anomaly = pd.read_sql_query(anomaly_sql, con)\n",
    "print(anomaly)"
   ]
  },
  {
   "cell_type": "markdown",
   "id": "f2942286",
   "metadata": {},
   "source": [
    "## monthly repeat-purchase"
   ]
  },
  {
   "cell_type": "code",
   "execution_count": 12,
   "id": "2f4257fa",
   "metadata": {},
   "outputs": [
    {
     "name": "stdout",
     "output_type": "stream",
     "text": [
      "      month  unique_customers  total_orders\n",
      "0   2024-01               980          4095\n",
      "1   2024-02               895          2324\n",
      "2   2024-03               763          1449\n",
      "3   2024-04               563           845\n",
      "4   2024-05               388           506\n",
      "5   2024-06               283           335\n",
      "6   2024-07               174           194\n",
      "7   2024-08                96           102\n",
      "8   2024-09                60            63\n",
      "9   2024-10                31            32\n",
      "10  2024-11                22            22\n",
      "11  2024-12                17            17\n",
      "12  2025-01                 6             6\n",
      "13  2025-02                 3             3\n",
      "14  2025-03                 4             4\n",
      "15  2025-04                 2             2\n"
     ]
    }
   ],
   "source": [
    "repeat_query = \"\"\"\n",
    "    SELECT STRFTIME('%Y-%m', order_date) AS month,\n",
    "           COUNT(DISTINCT customer_id) AS unique_customers,\n",
    "           COUNT(customer_id) AS total_orders\n",
    "    FROM e_commers_transactions\n",
    "    GROUP BY month\n",
    "    HAVING unique_customers > 1\n",
    "\"\"\"\n",
    "repeat_df = pd.read_sql_query(repeat_query, con)\n",
    "print(repeat_df)"
   ]
  },
  {
   "cell_type": "markdown",
   "id": "e418c64e",
   "metadata": {},
   "source": [
    "#### Query repeat-purchase bulanan digunakan untuk menghitung jumlah pelanggan unik yang melakukan transaksi tiap bulan. Hal ini berguna untuk mengidentifikasi tren retensi atau perilaku beli ulang dalam skala waktu, serta mendeteksi fluktuasi keterlibatan pelanggan dari waktu ke waktu. dan hasil diatas merupakan total customer dan total order yang dilakukan tiap bulannya"
   ]
  }
 ],
 "metadata": {
  "kernelspec": {
   "display_name": "base",
   "language": "python",
   "name": "python3"
  },
  "language_info": {
   "codemirror_mode": {
    "name": "ipython",
    "version": 3
   },
   "file_extension": ".py",
   "mimetype": "text/x-python",
   "name": "python",
   "nbconvert_exporter": "python",
   "pygments_lexer": "ipython3",
   "version": "3.10.10"
  }
 },
 "nbformat": 4,
 "nbformat_minor": 5
}
